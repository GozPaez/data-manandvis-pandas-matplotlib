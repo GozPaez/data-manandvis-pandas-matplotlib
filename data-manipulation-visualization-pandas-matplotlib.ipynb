{
 "cells": [
  {
   "cell_type": "markdown",
   "metadata": {},
   "source": [
    "# Analizando un poco la data \n",
    "\n"
   ]
  },
  {
   "cell_type": "code",
   "execution_count": 1,
   "metadata": {
    "collapsed": true
   },
   "outputs": [],
   "source": [
    "#import all libraries!\n",
    "import pandas as pd # el as pd es un alias, hace el codigo un poco mas corto"
   ]
  },
  {
   "cell_type": "code",
   "execution_count": 2,
   "metadata": {},
   "outputs": [
    {
     "data": {
      "text/html": [
       "<div>\n",
       "<style>\n",
       "    .dataframe thead tr:only-child th {\n",
       "        text-align: right;\n",
       "    }\n",
       "\n",
       "    .dataframe thead th {\n",
       "        text-align: left;\n",
       "    }\n",
       "\n",
       "    .dataframe tbody tr th {\n",
       "        vertical-align: top;\n",
       "    }\n",
       "</style>\n",
       "<table border=\"1\" class=\"dataframe\">\n",
       "  <thead>\n",
       "    <tr style=\"text-align: right;\">\n",
       "      <th></th>\n",
       "      <th>PassengerId</th>\n",
       "      <th>Survived</th>\n",
       "      <th>Pclass</th>\n",
       "      <th>Name</th>\n",
       "      <th>Sex</th>\n",
       "      <th>Age</th>\n",
       "      <th>SibSp</th>\n",
       "      <th>Parch</th>\n",
       "      <th>Ticket</th>\n",
       "      <th>Fare</th>\n",
       "      <th>Cabin</th>\n",
       "      <th>Embarked</th>\n",
       "    </tr>\n",
       "  </thead>\n",
       "  <tbody>\n",
       "    <tr>\n",
       "      <th>0</th>\n",
       "      <td>1</td>\n",
       "      <td>0</td>\n",
       "      <td>3</td>\n",
       "      <td>Braund, Mr. Owen Harris</td>\n",
       "      <td>male</td>\n",
       "      <td>22.0</td>\n",
       "      <td>1</td>\n",
       "      <td>0</td>\n",
       "      <td>A/5 21171</td>\n",
       "      <td>7.2500</td>\n",
       "      <td>NaN</td>\n",
       "      <td>S</td>\n",
       "    </tr>\n",
       "    <tr>\n",
       "      <th>1</th>\n",
       "      <td>2</td>\n",
       "      <td>1</td>\n",
       "      <td>1</td>\n",
       "      <td>Cumings, Mrs. John Bradley (Florence Briggs Th...</td>\n",
       "      <td>female</td>\n",
       "      <td>38.0</td>\n",
       "      <td>1</td>\n",
       "      <td>0</td>\n",
       "      <td>PC 17599</td>\n",
       "      <td>71.2833</td>\n",
       "      <td>C85</td>\n",
       "      <td>C</td>\n",
       "    </tr>\n",
       "    <tr>\n",
       "      <th>2</th>\n",
       "      <td>3</td>\n",
       "      <td>1</td>\n",
       "      <td>3</td>\n",
       "      <td>Heikkinen, Miss. Laina</td>\n",
       "      <td>female</td>\n",
       "      <td>26.0</td>\n",
       "      <td>0</td>\n",
       "      <td>0</td>\n",
       "      <td>STON/O2. 3101282</td>\n",
       "      <td>7.9250</td>\n",
       "      <td>NaN</td>\n",
       "      <td>S</td>\n",
       "    </tr>\n",
       "    <tr>\n",
       "      <th>3</th>\n",
       "      <td>4</td>\n",
       "      <td>1</td>\n",
       "      <td>1</td>\n",
       "      <td>Futrelle, Mrs. Jacques Heath (Lily May Peel)</td>\n",
       "      <td>female</td>\n",
       "      <td>35.0</td>\n",
       "      <td>1</td>\n",
       "      <td>0</td>\n",
       "      <td>113803</td>\n",
       "      <td>53.1000</td>\n",
       "      <td>C123</td>\n",
       "      <td>S</td>\n",
       "    </tr>\n",
       "    <tr>\n",
       "      <th>4</th>\n",
       "      <td>5</td>\n",
       "      <td>0</td>\n",
       "      <td>3</td>\n",
       "      <td>Allen, Mr. William Henry</td>\n",
       "      <td>male</td>\n",
       "      <td>35.0</td>\n",
       "      <td>0</td>\n",
       "      <td>0</td>\n",
       "      <td>373450</td>\n",
       "      <td>8.0500</td>\n",
       "      <td>NaN</td>\n",
       "      <td>S</td>\n",
       "    </tr>\n",
       "  </tbody>\n",
       "</table>\n",
       "</div>"
      ],
      "text/plain": [
       "   PassengerId  Survived  Pclass  \\\n",
       "0            1         0       3   \n",
       "1            2         1       1   \n",
       "2            3         1       3   \n",
       "3            4         1       1   \n",
       "4            5         0       3   \n",
       "\n",
       "                                                Name     Sex   Age  SibSp  \\\n",
       "0                            Braund, Mr. Owen Harris    male  22.0      1   \n",
       "1  Cumings, Mrs. John Bradley (Florence Briggs Th...  female  38.0      1   \n",
       "2                             Heikkinen, Miss. Laina  female  26.0      0   \n",
       "3       Futrelle, Mrs. Jacques Heath (Lily May Peel)  female  35.0      1   \n",
       "4                           Allen, Mr. William Henry    male  35.0      0   \n",
       "\n",
       "   Parch            Ticket     Fare Cabin Embarked  \n",
       "0      0         A/5 21171   7.2500   NaN        S  \n",
       "1      0          PC 17599  71.2833   C85        C  \n",
       "2      0  STON/O2. 3101282   7.9250   NaN        S  \n",
       "3      0            113803  53.1000  C123        S  \n",
       "4      0            373450   8.0500   NaN        S  "
      ]
     },
     "execution_count": 2,
     "metadata": {},
     "output_type": "execute_result"
    }
   ],
   "source": [
    "#importemos (carguemos en memoria) la data\n",
    "#pandas carga la data como un dataframe o matriz, tal como si tuvieramos un spreadsheet\n",
    "\n",
    "data = pd.read_csv('data/titanic.csv')\n",
    "\n",
    "#previsualicemos la data\n",
    "data.head()"
   ]
  },
  {
   "cell_type": "code",
   "execution_count": 3,
   "metadata": {},
   "outputs": [
    {
     "name": "stdout",
     "output_type": "stream",
     "text": [
      "(891, 12)\n"
     ]
    }
   ],
   "source": [
    "#cual es la dimension (filas, columnas) de mi dataframe?\n",
    "print data.shape"
   ]
  },
  {
   "cell_type": "code",
   "execution_count": 4,
   "metadata": {},
   "outputs": [
    {
     "name": "stdout",
     "output_type": "stream",
     "text": [
      "PassengerId    891\n",
      "Survived       891\n",
      "Pclass         891\n",
      "Name           891\n",
      "Sex            891\n",
      "Age            714\n",
      "SibSp          891\n",
      "Parch          891\n",
      "Ticket         891\n",
      "Fare           891\n",
      "Cabin          204\n",
      "Embarked       889\n",
      "dtype: int64\n"
     ]
    }
   ],
   "source": [
    "# Tengo datos completos para todos los registros?\n",
    "# el metodo count cuanto cada registro(fila) que tenga datos\n",
    "# podemos ver que por ejemplo para la columna Cabin tengo algunos registros sin datos\n",
    "print data.count() "
   ]
  },
  {
   "cell_type": "code",
   "execution_count": 5,
   "metadata": {},
   "outputs": [
    {
     "name": "stdout",
     "output_type": "stream",
     "text": [
      "Valores nulos en <PassengerId>: 0\n",
      "Valores nulos en <Survived>: 0\n",
      "Valores nulos en <Pclass>: 0\n",
      "Valores nulos en <Name>: 0\n",
      "Valores nulos en <Sex>: 0\n",
      "Valores nulos en <Age>: 177\n",
      "Valores nulos en <SibSp>: 0\n",
      "Valores nulos en <Parch>: 0\n",
      "Valores nulos en <Ticket>: 0\n",
      "Valores nulos en <Fare>: 0\n",
      "Valores nulos en <Cabin>: 687\n",
      "Valores nulos en <Embarked>: 2\n"
     ]
    }
   ],
   "source": [
    "# Pero tener datos, no significa tener datos \"limpios\"\n",
    "# Podemos ver en la previsualizacion que para la columna Cabin tengo algunos NaN, el cual en python \n",
    "# es interpretado como un valor nulo o Null, lo cual me podria traer problemas cuando analice la data\n",
    "# contemos cuantos datos nulos tenemos\n",
    "\n",
    "# 1. Obtener los nombres de las columnas como una lista\n",
    "col_names = data.columns.tolist()\n",
    "# 2. Iterar sobre la lista\n",
    "for column in col_names:\n",
    "    print \"Valores nulos en <{0}>: {1}\".format(column, data[column].isnull().sum())  "
   ]
  },
  {
   "cell_type": "code",
   "execution_count": 6,
   "metadata": {},
   "outputs": [
    {
     "data": {
      "text/plain": [
       "0    M\n",
       "1    F\n",
       "2    F\n",
       "3    F\n",
       "4    M\n",
       "Name: Sex, dtype: object"
      ]
     },
     "execution_count": 6,
     "metadata": {},
     "output_type": "execute_result"
    }
   ],
   "source": [
    "# Imagina que para fines de simplicidad quieres reemplazar el female, male por F, M\n",
    "\n",
    "# 1. Creamos un diccionario con los valores originales y los valores de reemplazo\n",
    "d = {'male' : 'M', 'female' : 'F'}\n",
    "\n",
    "# 2. Utilizamos un lambda para el reemplazo, en una sola linea n.n\n",
    "data['Sex'] = data['Sex'].apply(lambda x:d[x])\n",
    "\n",
    "#checa el cambio\n",
    "data['Sex'].head()"
   ]
  },
  {
   "cell_type": "code",
   "execution_count": null,
   "metadata": {
    "collapsed": true
   },
   "outputs": [],
   "source": [
    "#Una forma mas sencilla de acceder a las columnas\n",
    "data.Age"
   ]
  },
  {
   "cell_type": "code",
   "execution_count": null,
   "metadata": {
    "collapsed": true
   },
   "outputs": [],
   "source": [
    "# Podemos dar un vistazo a la distribucion de los datos\n",
    "data.describe()"
   ]
  },
  {
   "cell_type": "code",
   "execution_count": null,
   "metadata": {
    "collapsed": true
   },
   "outputs": [],
   "source": [
    "# Vemos que el minimo en Fare (precio) es 0 \n",
    "# Cuantos no pagaron?\n",
    "data[data.Fare == 0]"
   ]
  },
  {
   "cell_type": "code",
   "execution_count": 7,
   "metadata": {},
   "outputs": [
    {
     "data": {
      "text/html": [
       "<div>\n",
       "<style>\n",
       "    .dataframe thead tr:only-child th {\n",
       "        text-align: right;\n",
       "    }\n",
       "\n",
       "    .dataframe thead th {\n",
       "        text-align: left;\n",
       "    }\n",
       "\n",
       "    .dataframe tbody tr th {\n",
       "        vertical-align: top;\n",
       "    }\n",
       "</style>\n",
       "<table border=\"1\" class=\"dataframe\">\n",
       "  <thead>\n",
       "    <tr style=\"text-align: right;\">\n",
       "      <th>Sex</th>\n",
       "      <th>F</th>\n",
       "      <th>M</th>\n",
       "    </tr>\n",
       "    <tr>\n",
       "      <th>Survived</th>\n",
       "      <th></th>\n",
       "      <th></th>\n",
       "    </tr>\n",
       "  </thead>\n",
       "  <tbody>\n",
       "    <tr>\n",
       "      <th>0</th>\n",
       "      <td>81</td>\n",
       "      <td>468</td>\n",
       "    </tr>\n",
       "    <tr>\n",
       "      <th>1</th>\n",
       "      <td>233</td>\n",
       "      <td>109</td>\n",
       "    </tr>\n",
       "  </tbody>\n",
       "</table>\n",
       "</div>"
      ],
      "text/plain": [
       "Sex         F    M\n",
       "Survived          \n",
       "0          81  468\n",
       "1         233  109"
      ]
     },
     "execution_count": 7,
     "metadata": {},
     "output_type": "execute_result"
    }
   ],
   "source": [
    "# Agrupemos por Sobrevivencia y Sexo\n",
    "pd.crosstab(data.Survived, data.Sex)"
   ]
  },
  {
   "cell_type": "code",
   "execution_count": 8,
   "metadata": {},
   "outputs": [
    {
     "data": {
      "text/plain": [
       "Pclass  Sex\n",
       "1       F      91\n",
       "        M      45\n",
       "2       F      70\n",
       "        M      17\n",
       "3       F      72\n",
       "        M      47\n",
       "Name: Survived, dtype: int64"
      ]
     },
     "execution_count": 8,
     "metadata": {},
     "output_type": "execute_result"
    }
   ],
   "source": [
    "#Como fue la sobreviviencia por clase, sexo\n",
    "pclass_gender_survival_count_df = data.groupby( ['Pclass', 'Sex'] )['Survived'].sum()\n",
    "pclass_gender_survival_count_df"
   ]
  },
  {
   "cell_type": "markdown",
   "metadata": {},
   "source": [
    "# Visualicemos!"
   ]
  },
  {
   "cell_type": "code",
   "execution_count": null,
   "metadata": {
    "collapsed": true
   },
   "outputs": [],
   "source": [
    "# Cuantos sobrevivieron "
   ]
  },
  {
   "cell_type": "code",
   "execution_count": null,
   "metadata": {
    "collapsed": true
   },
   "outputs": [],
   "source": [
    "import matplotlib.pyplot as plt\n",
    "\n",
    " \n",
    "fig = plt.figure(figsize=(30,10)) #creamos un canvas o figura de 30x10 pixeles\n",
    "\n",
    "# queremos ver un plot al costado del otro, para esto pensemos en una grilla (celdas)\n",
    "plt.subplot2grid((2,3),(0,0))\n",
    "data.Survived.value_counts().plot(kind='bar', alpha=0.5)\n",
    "plt.title('Sobrevivieron - cuenta total -')\n",
    "\n",
    "# Hay manera un poco mas amigable de interpretar datos....con porcentajes!\n",
    "plt.subplot2grid((2,3),(0,1))\n",
    "data.Survived.value_counts(normalize = True).plot(kind='bar', alpha=0.5)\n",
    "plt.title('Sobrevivieron - porcentaje total -')\n",
    "\n",
    "plt.show()\n"
   ]
  },
  {
   "cell_type": "code",
   "execution_count": null,
   "metadata": {
    "collapsed": true,
    "scrolled": true
   },
   "outputs": [],
   "source": [
    "#Sobrevivieron mas hombres o mas mujeres?\n",
    "fig = plt.figure(figsize=(30,10))\n",
    "data.Sex[data.Survived == 1].value_counts(normalize = True).plot(kind='barh', alpha=0.5, color='br')\n",
    "plt.title('Sobrevivieron - Male vs Female -')\n",
    "plt.show()"
   ]
  },
  {
   "cell_type": "code",
   "execution_count": null,
   "metadata": {
    "collapsed": true
   },
   "outputs": [],
   "source": [
    "# Que relacion hay entre sobrevivencia y edad de los sobrevivientes\n",
    "fig = plt.figure(figsize=(6,8))\n",
    "plt.scatter(data.Survived, data.Age, alpha=0.5, color='#808000')\n",
    "plt.show()"
   ]
  },
  {
   "cell_type": "code",
   "execution_count": null,
   "metadata": {
    "collapsed": true
   },
   "outputs": [],
   "source": [
    "# La clase del ticket fue un factor de sobrevivencia (si viste Titanic, ya lo sabes!)\n",
    "fig = plt.figure(figsize=(10,5))\n",
    "#colors bgrcmykw\n",
    "data.Pclass[data.Survived == 1 ].value_counts(normalize = True).plot(kind='bar', alpha=0.5, color='rby')\n",
    "plt.title('Sobrevivientes por Clase de Ticket')\n",
    "plt.show()"
   ]
  },
  {
   "cell_type": "code",
   "execution_count": null,
   "metadata": {
    "collapsed": true
   },
   "outputs": [],
   "source": [
    "# Habra alguna relacion entre tipo de ticket y edad? (Poder Adquisitivo)\n",
    "fig = plt.figure(figsize=(20,10))\n",
    "\n",
    "for t_class in [1,2,3]:\n",
    "    data.Age[data.Pclass == t_class].plot(kind='kde')\n",
    "    \n",
    "plt.legend((\"1ra. Clase\", \"2da. Clase\", \"3ra.Clase\"))  \n",
    "plt.show()\n",
    "\n",
    "# La linea de la 1ra clase, nos muestra que el promedio de edad del comprador es de 40 annios\n",
    "# La linea de la 3ra clase, tiene un promedio mucho mas joven\n",
    "\n",
    "# Podriamos hacer una inferencia temprana y decir que los hombres que salvaron fueron \n",
    "# en su mayoria ricos y > 30 annios\n"
   ]
  },
  {
   "cell_type": "code",
   "execution_count": null,
   "metadata": {
    "collapsed": true
   },
   "outputs": [],
   "source": [
    "data[data.Age < 1]"
   ]
  },
  {
   "cell_type": "code",
   "execution_count": null,
   "metadata": {
    "collapsed": true
   },
   "outputs": [],
   "source": []
  }
 ],
 "metadata": {
  "kernelspec": {
   "display_name": "Python 2",
   "language": "python",
   "name": "python2"
  },
  "language_info": {
   "codemirror_mode": {
    "name": "ipython",
    "version": 2
   },
   "file_extension": ".py",
   "mimetype": "text/x-python",
   "name": "python",
   "nbconvert_exporter": "python",
   "pygments_lexer": "ipython2",
   "version": "2.7.14"
  }
 },
 "nbformat": 4,
 "nbformat_minor": 2
}
